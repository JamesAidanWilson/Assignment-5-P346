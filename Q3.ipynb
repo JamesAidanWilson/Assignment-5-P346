{
 "cells": [
  {
   "cell_type": "code",
   "execution_count": 32,
   "source": [
    "import math\r\n",
    "\r\n",
    "def f(x, c,n):       # creating the polynomial of degree n and coefficients c\r\n",
    "    j = 0\r\n",
    "    for i in range(1,n+1):\r\n",
    "        j += c[i-1]*x**(n-i)\r\n",
    "    return j \r\n",
    "    \r\n",
    "def D1f(x, c, n, f):     # first derivative of the polynomial function\r\n",
    "    h = 1/1000\r\n",
    "    y = (f(x+h,c,n) - f(x-h,c,n))/(2*h) \r\n",
    "    return y\r\n",
    "\r\n",
    "def D2f(x, c, n, f):     # second derivative of the polynomial function\r\n",
    "    h = 1/1000\r\n",
    "    y = (D1f(x+h,c,n,f)-D1f(x-h,c,n,f))/(2*h) \r\n",
    "    return y\r\n",
    "\r\n",
    "def Lag(a_o, e, c, n, f):        # laguerre's method\r\n",
    "    i = 0 ; a = 0             # i stores the iterations, a is our guess\r\n",
    "    while abs(a_o-a) > e and i <= 12:\r\n",
    "        a = a_o\r\n",
    "        y1 = D1f(a_o, c, n, f)/f(a_o, c, n)       # up upto 2nd term in Taylor expansion\r\n",
    "        y2 = y1**2 - (D2f(a_o, c, n, f)/f(a_o, c, n))  # up upto 3rd term in Taylor expansion\r\n",
    "        if abs(y1 + math.sqrt((n-1)*(n*y2-y1**2))) > abs(y1 - math.sqrt((n-1)*(n*y2-y1**2))):  # conditions for Lagurre's method\r\n",
    "            k = n/(y1 + math.sqrt((n-1)*(n*y2-y1**2)))\r\n",
    "        elif abs(y1 - math.sqrt((n-1)*(n*y2-y1**2))) > abs(y1 + math.sqrt((n-1)*(n*y2-y1**2))):\r\n",
    "            k = n/(y1 - math.sqrt((n-1)*(n*y2-y1**2))) \r\n",
    "        else:\r\n",
    "            if f(a_o, c, n)==0:\r\n",
    "                print('One of the roots obtained:',round(a_o,6))\r\n",
    "        a_o -= k       # new trial\r\n",
    "        i += 1          \r\n",
    "    return a_o\r\n",
    "\r\n",
    "def syn_div(a_o, c):      #synthetic division \r\n",
    "    if abs(c[0]) != 1:            \r\n",
    "        for value in c:\r\n",
    "                value = value/c[0]          # dividing the coefficients to get coefficient of highest degree as 1\r\n",
    "    for k in range(0, len(c)-1):\r\n",
    "            c[k+1] = a_o*c[k] + c[k+1]      # separating the values\r\n",
    "    return c\r\n",
    " \r\n",
    "\r\n",
    "def Roots_Laguerre(n ,e, guess, c):            # display function for roots\r\n",
    "    for index in range(n, 1, -1):\r\n",
    "        guess = Lag(guess, e, c, index, f)     # performing laguerre\r\n",
    "        if index > 0:\r\n",
    "            c = syn_div(guess,c)        # performing Synthetic division.\r\n",
    "        print(round(guess, 4))\r\n",
    "\r\n",
    "print(\"The roots of the polynomial are:\")\r\n",
    "Roots_Laguerre(5,0.00001, 0.5, [1, 0, -5, 0, 4])"
   ],
   "outputs": [
    {
     "output_type": "stream",
     "name": "stdout",
     "text": [
      "The roots of the polynomial are:\n",
      "1.0\n",
      "2.0\n",
      "-1.0\n",
      "-2.0\n"
     ]
    }
   ],
   "metadata": {}
  }
 ],
 "metadata": {
  "orig_nbformat": 4,
  "language_info": {
   "name": "python",
   "version": "3.7.4",
   "mimetype": "text/x-python",
   "codemirror_mode": {
    "name": "ipython",
    "version": 3
   },
   "pygments_lexer": "ipython3",
   "nbconvert_exporter": "python",
   "file_extension": ".py"
  },
  "kernelspec": {
   "name": "python3",
   "display_name": "Python 3.7.4 32-bit"
  },
  "interpreter": {
   "hash": "a10fe58052d53de2f628fe753df202ab061ed00aa63930584c0feb86b9c4bc70"
  }
 },
 "nbformat": 4,
 "nbformat_minor": 2
}